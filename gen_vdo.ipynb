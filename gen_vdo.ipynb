{
 "cells": [
  {
   "cell_type": "code",
   "execution_count": null,
   "id": "fc24d862",
   "metadata": {},
   "outputs": [
    {
     "name": "stdout",
     "output_type": "stream",
     "text": [
      "Waiting for video generation to complete...\n",
      "Waiting for video generation to complete...\n",
      "Waiting for video generation to complete...\n",
      "Waiting for video generation to complete...\n",
      "Waiting for video generation to complete...\n",
      "Waiting for video generation to complete...\n",
      "Waiting for video generation to complete...\n"
     ]
    },
    {
     "data": {
      "text/plain": [
       "GenerateVideosResponse(\n",
       "  generated_videos=[\n",
       "    GeneratedVideo(\n",
       "      video=Video(\n",
       "        uri='https://generativelanguage.googleapis.com/v1beta/files/nkjmgld4kfrd:download?alt=media'\n",
       "      )\n",
       "    ),\n",
       "  ]\n",
       ")"
      ]
     },
     "execution_count": 5,
     "metadata": {},
     "output_type": "execute_result"
    }
   ],
   "source": [
    "import time\n",
    "from google import genai\n",
    "from google.genai import types\n",
    "\n",
    "client = genai.Client(api_key=\"API_KEY\")\n",
    "\n",
    "prompt = \"\"\"A close up of two people staring at a cryptic drawing on a wall, torchlight flickering.\n",
    "A man murmurs, 'This must be it. That's the secret code.' The woman looks at him and whispering excitedly, 'What did you find?'\"\"\"\n",
    "\n",
    "\n",
    "prompt4 = \"\"\" แมวสีส้มทอดปลาทูในห้องครัว \"\"\"\n",
    "\n",
    "operation = client.models.generate_videos(\n",
    "    model=\"veo-3.0-generate-001\",\n",
    "    prompt=prompt4,\n",
    ")\n",
    "\n",
    "# Poll the operation status until the video is ready.\n",
    "while not operation.done:\n",
    "    print(\"Waiting for video generation to complete...\")\n",
    "    time.sleep(10)\n",
    "    operation = client.operations.get(operation)\n",
    "\n",
    "operation.response"
   ]
  },
  {
   "cell_type": "code",
   "execution_count": null,
   "id": "2a10260d",
   "metadata": {},
   "outputs": [
    {
     "name": "stdout",
     "output_type": "stream",
     "text": [
      "Generated video saved to example5.mp4\n"
     ]
    }
   ],
   "source": [
    "# Download the generated video.\n",
    "generated_video = operation.response.generated_videos[0]\n",
    "client.files.download(file=generated_video.video)\n",
    "generated_video.video.save(\"example5.mp4\")\n",
    "print(\"Generated video saved to example5.mp4\")"
   ]
  }
 ],
 "metadata": {
  "kernelspec": {
   "display_name": ".venv",
   "language": "python",
   "name": "python3"
  },
  "language_info": {
   "codemirror_mode": {
    "name": "ipython",
    "version": 3
   },
   "file_extension": ".py",
   "mimetype": "text/x-python",
   "name": "python",
   "nbconvert_exporter": "python",
   "pygments_lexer": "ipython3",
   "version": "3.13.5"
  }
 },
 "nbformat": 4,
 "nbformat_minor": 5
}
