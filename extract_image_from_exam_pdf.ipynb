{
 "cells": [
  {
   "cell_type": "code",
   "execution_count": null,
   "id": "3b3f3477",
   "metadata": {},
   "outputs": [],
   "source": [
    "import fitz\n",
    "import os\n",
    "\n",
    "# Define paths\n",
    "pdf_path = \"/Users/bas/Downloads/Sheet ข้อสอบ ก.พ. E-Exam 26-27-28 เม.ย. 2567.pdf\"\n",
    "output_folder = \"/Users/bas/Downloads/exam_images\"\n",
    "\n",
    "# Create output folder if it doesn't exist\n",
    "if not os.path.exists(output_folder):\n",
    "    os.makedirs(output_folder)\n",
    "\n",
    "# Open the PDF document\n",
    "pdf_document = fitz.open(pdf_path)\n",
    "\n",
    "    # Iterate through each page\n",
    "for page_num in range(len(pdf_document)):\n",
    "    page = pdf_document.load_page(page_num)\n",
    "    pix = page.get_pixmap()  # Render page to a pixmap\n",
    "    output_image_path = os.path.join(output_folder, f\"page_{page_num+1}.png\")\n",
    "    pix.save(output_image_path) # Save pixmap as an image\n",
    "\n",
    "pdf_document.close()"
   ]
  }
 ],
 "metadata": {
  "kernelspec": {
   "display_name": ".venv",
   "language": "python",
   "name": "python3"
  },
  "language_info": {
   "codemirror_mode": {
    "name": "ipython",
    "version": 3
   },
   "file_extension": ".py",
   "mimetype": "text/x-python",
   "name": "python",
   "nbconvert_exporter": "python",
   "pygments_lexer": "ipython3",
   "version": "3.13.5"
  }
 },
 "nbformat": 4,
 "nbformat_minor": 5
}
